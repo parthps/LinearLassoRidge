{
 "cells": [
  {
   "cell_type": "code",
   "execution_count": null,
   "id": "90f9c052",
   "metadata": {},
   "outputs": [],
   "source": [
    "import pandas as pd\n",
    "import numpy as np\n",
    "import seaborn as sns\n",
    "import matplotlib.pyplot as plt"
   ]
  },
  {
   "cell_type": "code",
   "execution_count": null,
   "id": "61c970a7",
   "metadata": {},
   "outputs": [],
   "source": [
    "df= pd.read_csv(\"C:/Users/Lenovo/Downloads/archive/Melbourne_housing_FULL.csv\")"
   ]
  },
  {
   "cell_type": "code",
   "execution_count": null,
   "id": "3504c89b",
   "metadata": {},
   "outputs": [],
   "source": [
    "df.nunique()"
   ]
  },
  {
   "cell_type": "code",
   "execution_count": null,
   "id": "a13c9ee9",
   "metadata": {},
   "outputs": [],
   "source": [
    "df.shape"
   ]
  },
  {
   "cell_type": "code",
   "execution_count": null,
   "id": "12223365",
   "metadata": {},
   "outputs": [],
   "source": [
    "df.columns"
   ]
  },
  {
   "cell_type": "code",
   "execution_count": null,
   "id": "b88d11c1",
   "metadata": {},
   "outputs": [],
   "source": [
    "Data= ['Suburb',  'Rooms', 'Type', 'Price', 'Method', 'SellerG',\n",
    "       'Distance',  'Bedroom2', 'Bathroom', 'Car',\n",
    "       'Landsize', 'BuildingArea', 'CouncilArea', \n",
    "        'Regionname', 'Propertycount']\n",
    "Dataset=df[Data]"
   ]
  },
  {
   "cell_type": "code",
   "execution_count": null,
   "id": "56c37844",
   "metadata": {},
   "outputs": [],
   "source": [
    "Dataset.head()\n"
   ]
  },
  {
   "cell_type": "code",
   "execution_count": null,
   "id": "9d3c4e08",
   "metadata": {},
   "outputs": [],
   "source": [
    "Dataset.shape"
   ]
  },
  {
   "cell_type": "code",
   "execution_count": null,
   "id": "d61f4ceb",
   "metadata": {},
   "outputs": [],
   "source": [
    "Dataset.isna().sum()"
   ]
  },
  {
   "cell_type": "code",
   "execution_count": null,
   "id": "18126ae7",
   "metadata": {},
   "outputs": [],
   "source": [
    "coll_filled_with_zero=['Propertycount','Bathroom','Bedroom2','Distance','Car']\n",
    "Dataset[coll_filled_with_zero]=Dataset[coll_filled_with_zero].fillna(0)"
   ]
  },
  {
   "cell_type": "code",
   "execution_count": null,
   "id": "754ded7d",
   "metadata": {},
   "outputs": [],
   "source": [
    "Dataset.isna().sum()"
   ]
  },
  {
   "cell_type": "code",
   "execution_count": null,
   "id": "45a72603",
   "metadata": {},
   "outputs": [],
   "source": [
    "Dataset['Landsize']=Dataset['Landsize'].fillna(Dataset.Landsize.mean())\n",
    "Dataset['BuildingArea']=Dataset['BuildingArea'].fillna(Dataset.BuildingArea.mean())"
   ]
  },
  {
   "cell_type": "code",
   "execution_count": null,
   "id": "9b0e2a05",
   "metadata": {},
   "outputs": [],
   "source": [
    "Dataset.isna().sum()"
   ]
  },
  {
   "cell_type": "code",
   "execution_count": null,
   "id": "1a7cd0f0",
   "metadata": {},
   "outputs": [],
   "source": [
    "Dataset.dropna(inplace=True)\n",
    "Dataset.isna().sum()"
   ]
  },
  {
   "cell_type": "code",
   "execution_count": null,
   "id": "ad90a659",
   "metadata": {},
   "outputs": [],
   "source": [
    "Dataset=pd.get_dummies(Dataset,drop_first=True)\n",
    "Dataset.head()"
   ]
  },
  {
   "cell_type": "code",
   "execution_count": null,
   "id": "561ff799",
   "metadata": {},
   "outputs": [],
   "source": [
    "X= Dataset.drop('Price',axis=1)\n",
    "Y=Dataset['Price']\n",
    "Y.head()"
   ]
  },
  {
   "cell_type": "code",
   "execution_count": null,
   "id": "b48e1df0",
   "metadata": {},
   "outputs": [],
   "source": [
    "from sklearn.model_selection import train_test_split\n",
    "train_x,test_x, train_y,test_y =train_test_split(X,Y,test_size=0.3, random_state=2)"
   ]
  },
  {
   "cell_type": "code",
   "execution_count": null,
   "id": "e3b2d730",
   "metadata": {},
   "outputs": [],
   "source": [
    "from sklearn.linear_model import LinearRegression\n",
    "reg = LinearRegression().fit(train_x,train_y)"
   ]
  },
  {
   "cell_type": "code",
   "execution_count": null,
   "id": "df644af7",
   "metadata": {},
   "outputs": [],
   "source": [
    "reg.score(test_x,test_y)"
   ]
  },
  {
   "cell_type": "code",
   "execution_count": null,
   "id": "05683ee5",
   "metadata": {},
   "outputs": [],
   "source": [
    "reg.score(train_x,train_y)"
   ]
  },
  {
   "cell_type": "code",
   "execution_count": null,
   "id": "f015ad58",
   "metadata": {},
   "outputs": [],
   "source": [
    "from sklearn import linear_model\n",
    "lasso=linear_model.Lasso(alpha=50,max_iter=100,tol=0.1)\n",
    "lasso.fit(train_x,train_y)\n"
   ]
  },
  {
   "cell_type": "code",
   "execution_count": null,
   "id": "7c203188",
   "metadata": {},
   "outputs": [],
   "source": [
    "lasso.score(train_x,train_y)"
   ]
  },
  {
   "cell_type": "code",
   "execution_count": null,
   "id": "083c067a",
   "metadata": {},
   "outputs": [],
   "source": [
    "lasso.score(test_x,test_y)"
   ]
  },
  {
   "cell_type": "code",
   "execution_count": null,
   "id": "ca3ec0f1",
   "metadata": {},
   "outputs": [],
   "source": [
    "from sklearn import linear_model\n",
    "ridge=linear_model.Ridge(alpha=50,max_iter=100,tol=0.1)\n",
    "ridge.fit(train_x,train_y)"
   ]
  },
  {
   "cell_type": "code",
   "execution_count": null,
   "id": "7405029c",
   "metadata": {},
   "outputs": [],
   "source": [
    "ridge.score(train_x,train_y)"
   ]
  },
  {
   "cell_type": "code",
   "execution_count": null,
   "id": "2493553a",
   "metadata": {},
   "outputs": [],
   "source": [
    "ridge.score(test_x,test_y)"
   ]
  },
  {
   "cell_type": "code",
   "execution_count": null,
   "id": "d8cd269b",
   "metadata": {},
   "outputs": [],
   "source": [
    "lasso.coef_"
   ]
  },
  {
   "cell_type": "code",
   "execution_count": null,
   "id": "c3d4000e",
   "metadata": {},
   "outputs": [],
   "source": [
    "lasso.intercept_"
   ]
  },
  {
   "cell_type": "code",
   "execution_count": null,
   "id": "39869184",
   "metadata": {},
   "outputs": [],
   "source": []
  },
  {
   "cell_type": "code",
   "execution_count": null,
   "id": "92daad5d",
   "metadata": {},
   "outputs": [],
   "source": []
  }
 ],
 "metadata": {
  "kernelspec": {
   "display_name": "Python 3 (ipykernel)",
   "language": "python",
   "name": "python3"
  },
  "language_info": {
   "codemirror_mode": {
    "name": "ipython",
    "version": 3
   },
   "file_extension": ".py",
   "mimetype": "text/x-python",
   "name": "python",
   "nbconvert_exporter": "python",
   "pygments_lexer": "ipython3",
   "version": "3.9.12"
  }
 },
 "nbformat": 4,
 "nbformat_minor": 5
}
